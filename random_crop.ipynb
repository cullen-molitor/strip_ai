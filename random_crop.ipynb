{
 "cells": [
  {
   "cell_type": "code",
   "execution_count": 88,
   "id": "8e98f0ec",
   "metadata": {},
   "outputs": [],
   "source": [
    "import time\n",
    "import os\n",
    "import gc\n",
    "import calendar\n",
    "import glob\n",
    "from pyhere import here\n",
    "\n",
    "import PIL\n",
    "PIL.Image.MAX_IMAGE_PIXELS = None\n",
    "\n",
    "import numpy as np\n",
    "import pandas as pd\n",
    "import matplotlib.pyplot as plt\n",
    "\n",
    "import torch\n",
    "import torch.nn as nn\n",
    "import torchvision.transforms as T\n",
    "import torch.nn.functional as F\n",
    "from torch.utils.data import Dataset, DataLoader\n",
    "\n",
    "from skimage import io\n",
    "from sklearn.model_selection import train_test_split\n",
    "from sklearn.metrics import r2_score\n",
    "from sklearn.linear_model import RidgeClassifierCV\n",
    "from sklearn.ensemble import RandomForestClassifier\n",
    "\n",
    "from scipy.stats import spearmanr\n",
    "from scipy.stats import pearsonr"
   ]
  },
  {
   "cell_type": "code",
   "execution_count": 2,
   "id": "e9093aad-fd08-4a63-9ae0-c5fe6f9638e8",
   "metadata": {},
   "outputs": [
    {
     "data": {
      "text/plain": [
       "True"
      ]
     },
     "execution_count": 2,
     "metadata": {},
     "output_type": "execute_result"
    }
   ],
   "source": [
    "torch.cuda.is_available()"
   ]
  },
  {
   "cell_type": "code",
   "execution_count": 3,
   "id": "4c128e65-6ad7-4b66-916b-8beda10358f7",
   "metadata": {},
   "outputs": [
    {
     "name": "stdout",
     "output_type": "stream",
     "text": [
      "1.10.2\n"
     ]
    }
   ],
   "source": [
    "print(torch.__version__)"
   ]
  },
  {
   "cell_type": "code",
   "execution_count": 4,
   "id": "f3f9af8c-6f3c-437f-833e-0c37fb6eea80",
   "metadata": {},
   "outputs": [
    {
     "data": {
      "text/plain": [
       "'C:\\\\Users\\\\Cullen\\\\Desktop\\\\GitHub\\\\strip_ai'"
      ]
     },
     "execution_count": 4,
     "metadata": {},
     "output_type": "execute_result"
    }
   ],
   "source": [
    "os.getcwd()"
   ]
  },
  {
   "cell_type": "markdown",
   "id": "8014cb18",
   "metadata": {},
   "source": [
    "## Set Parameters"
   ]
  },
  {
   "cell_type": "code",
   "execution_count": 5,
   "id": "a7c8cf08",
   "metadata": {},
   "outputs": [],
   "source": [
    "num_features = 4096"
   ]
  },
  {
   "cell_type": "markdown",
   "id": "f40e13b0",
   "metadata": {},
   "source": [
    "First we define the pytorch model that we will use to extract the features."
   ]
  },
  {
   "cell_type": "code",
   "execution_count": 6,
   "id": "e85ddac5",
   "metadata": {},
   "outputs": [],
   "source": [
    "class RCF(nn.Module):\n",
    "    \"\"\"A model for extracting Random Convolution Features (RCF) from input imagery.\"\"\"\n",
    "    def __init__(self, num_features=16, kernel_size=3, num_input_channels=3):\n",
    "        super(RCF, self).__init__()\n",
    "        # We create `num_features / 2` filters so require `num_features` to be divisible by 2\n",
    "        assert num_features % 2 == 0, \"Please enter an even number of features.\"\n",
    "        # Applies a 2D convolution over an input image composed of several input planes.\n",
    "        self.conv1 = nn.Conv2d(\n",
    "            num_input_channels,\n",
    "            num_features // 2,\n",
    "            kernel_size=kernel_size,\n",
    "            stride=1,\n",
    "            padding=0,\n",
    "            dilation=1,\n",
    "            bias=True,\n",
    "        )\n",
    "        # Fills the input Tensor 'conv1.weight' with values drawn from the normal distribution\n",
    "        nn.init.normal_(self.conv1.weight, mean=0.0, std=1.0) \n",
    "        # Fills the input Tensor 'conv1.bias' with the value 'val = -1'.\n",
    "        nn.init.constant_(self.conv1.bias, -1.0)\n",
    "    def forward(self, x):\n",
    "        # The rectified linear activation function or ReLU for short is a piecewise linear function \n",
    "        # that will output the input directly if it is positive, otherwise, it will output zero.\n",
    "        x1a = F.relu(self.conv1(x), inplace=True)\n",
    "        # The below step is where we take the inverse which is appended later\n",
    "        x1b = F.relu(-self.conv1(x), inplace=True)\n",
    "        # Applies a 2D adaptive average pooling over an input signal composed of several input planes.\n",
    "        x1a = F.adaptive_avg_pool2d(x1a, (1, 1)).squeeze()\n",
    "        x1b = F.adaptive_avg_pool2d(x1b, (1, 1)).squeeze()\n",
    "        if len(x1a.shape) == 1:  # case where we passed a single input\n",
    "            return torch.cat((x1a, x1b), dim=0)\n",
    "        elif len(x1a.shape) == 2:  # case where we passed a batch of > 1 inputs\n",
    "            return torch.cat((x1a, x1b), dim=1)"
   ]
  },
  {
   "cell_type": "markdown",
   "id": "4f0600b1",
   "metadata": {},
   "source": [
    "Next, we initialize the model and pytorch components"
   ]
  },
  {
   "cell_type": "code",
   "execution_count": 7,
   "id": "eece8ad5",
   "metadata": {},
   "outputs": [],
   "source": [
    "device = torch.device(\"cuda\")\n",
    "model = RCF(num_features).eval().to(device)"
   ]
  },
  {
   "cell_type": "code",
   "execution_count": 8,
   "id": "6eb93bf6-c8d0-4272-b9b9-26a7ee4b7baf",
   "metadata": {},
   "outputs": [],
   "source": [
    "directory = f\"{os.getcwd()}\\\\data\\\\train\\\\\"\n",
    "path = directory+\"*.tif\"\n",
    "files = glob.glob(path)"
   ]
  },
  {
   "cell_type": "code",
   "execution_count": 9,
   "id": "6e47c5f7-f7d3-44da-82f5-4d6fc1897c85",
   "metadata": {},
   "outputs": [
    {
     "data": {
      "text/plain": [
       "'C:\\\\Users\\\\Cullen\\\\Desktop\\\\GitHub\\\\strip_ai\\\\data\\\\train\\\\'"
      ]
     },
     "execution_count": 9,
     "metadata": {},
     "output_type": "execute_result"
    }
   ],
   "source": [
    "directory"
   ]
  },
  {
   "cell_type": "code",
   "execution_count": 10,
   "id": "638608ab-62f1-4b3a-8463-a9bd9c1fa980",
   "metadata": {},
   "outputs": [
    {
     "data": {
      "text/plain": [
       "'C:\\\\Users\\\\Cullen\\\\Desktop\\\\GitHub\\\\strip_ai\\\\data\\\\train\\\\*.tif'"
      ]
     },
     "execution_count": 10,
     "metadata": {},
     "output_type": "execute_result"
    }
   ],
   "source": [
    "path"
   ]
  },
  {
   "cell_type": "code",
   "execution_count": 28,
   "id": "4e6e626a-d5b8-4cae-b8e8-215b84c9a819",
   "metadata": {},
   "outputs": [],
   "source": [
    "cropper = T.RandomCrop(size=(128, 128))\n",
    "img_tens = T.ToTensor()"
   ]
  },
  {
   "cell_type": "code",
   "execution_count": 49,
   "id": "02ff5754-a0de-4a9c-841e-eb38c42acfca",
   "metadata": {},
   "outputs": [],
   "source": [
    "class CustomDataset(Dataset):\n",
    "    def __init__(self, fns):\n",
    "        self.fns = fns\n",
    "    def __len__(self):\n",
    "        return len(self.fns)\n",
    "    def __getitem__(self, idx):\n",
    "        fn = self.fns[idx]\n",
    "        if fn is None:\n",
    "            return None\n",
    "        else:\n",
    "            image = PIL.Image.open(fn)\n",
    "            image = cropper(image)\n",
    "            out_image = img_tens(image)\n",
    "            return out_image"
   ]
  },
  {
   "cell_type": "code",
   "execution_count": 50,
   "id": "3695768e-7ca2-4383-bf5c-6de8e53bd97a",
   "metadata": {},
   "outputs": [],
   "source": [
    "dataset = CustomDataset(files)"
   ]
  },
  {
   "cell_type": "code",
   "execution_count": 1,
   "id": "a8108f21-3b9e-4ef3-8e7d-3a46bd410326",
   "metadata": {},
   "outputs": [],
   "source": [
    "# img = dataset[0]"
   ]
  },
  {
   "cell_type": "code",
   "execution_count": 2,
   "id": "d79fd7e6-9c5b-432c-9ba6-2e2581159b03",
   "metadata": {},
   "outputs": [],
   "source": [
    "# img"
   ]
  },
  {
   "cell_type": "code",
   "execution_count": 53,
   "id": "c7966aa2-dfea-421a-be0a-0fb32ea97d2e",
   "metadata": {},
   "outputs": [],
   "source": [
    "dataloader = DataLoader(\n",
    "    dataset,\n",
    "    batch_size=8,\n",
    "    shuffle=False,\n",
    "    num_workers=os.cpu_count()*2,\n",
    "    collate_fn=lambda x: x,\n",
    "    pin_memory=False,\n",
    ")"
   ]
  },
  {
   "cell_type": "code",
   "execution_count": 54,
   "id": "dd55d049-3d45-419e-adc5-7cc2383d6ad8",
   "metadata": {},
   "outputs": [
    {
     "data": {
      "text/plain": [
       "754"
      ]
     },
     "execution_count": 54,
     "metadata": {},
     "output_type": "execute_result"
    }
   ],
   "source": [
    "len(files)"
   ]
  },
  {
   "cell_type": "code",
   "execution_count": 61,
   "id": "c48c7413-7bf6-48f9-80dd-15203653194a",
   "metadata": {},
   "outputs": [
    {
     "name": "stdout",
     "output_type": "stream",
     "text": [
      "0/754 -- 0.00% -- 0.44 seconds\n",
      "50/754 -- 6.63% -- 2.43 seconds\n",
      "100/754 -- 13.26% -- 9.58 seconds\n",
      "150/754 -- 19.89% -- 11.69 seconds\n",
      "200/754 -- 26.53% -- 0.77 seconds\n",
      "250/754 -- 33.16% -- 1.39 seconds\n",
      "300/754 -- 39.79% -- 0.81 seconds\n",
      "350/754 -- 46.42% -- 8.94 seconds\n",
      "400/754 -- 53.05% -- 8.50 seconds\n",
      "450/754 -- 59.68% -- 22.29 seconds\n",
      "500/754 -- 66.31% -- 8.24 seconds\n",
      "550/754 -- 72.94% -- 2.81 seconds\n",
      "600/754 -- 79.58% -- 7.25 seconds\n",
      "650/754 -- 86.21% -- 6.50 seconds\n",
      "700/754 -- 92.84% -- 22.61 seconds\n",
      "750/754 -- 99.47% -- 4.39 seconds\n"
     ]
    }
   ],
   "source": [
    "x_all = np.zeros((len(files), num_features), dtype=float)\n",
    "tic = time.time()\n",
    "i = 0\n",
    "if __name__ == '__main__':\n",
    "    dataloader = DataLoader(\n",
    "        dataset,\n",
    "        batch_size=1,\n",
    "        shuffle=True,\n",
    "        num_workers = 0, # os.cpu_count(), \n",
    "    )\n",
    "    for images in dataloader:\n",
    "        for image in images:\n",
    "            if i % 50 == 0:\n",
    "                print(\n",
    "                    f\"{i}/{len(files)} -- {i / len(files) * 100:0.2f}%\"\n",
    "                    + f\" -- {time.time()-tic:0.2f} seconds\"\n",
    "                )\n",
    "                tic = time.time()\n",
    "            image = image.to(device)\n",
    "            with torch.no_grad():\n",
    "                feats = model(image.unsqueeze(0)).cpu().numpy()\n",
    "            x_all[i] = feats\n",
    "            i += 1\n",
    "            torch.cuda.empty_cache()"
   ]
  },
  {
   "cell_type": "code",
   "execution_count": 65,
   "id": "ce6c6fdf-6ab2-4938-9862-252ab253678f",
   "metadata": {},
   "outputs": [
    {
     "data": {
      "text/html": [
       "<div>\n",
       "<style scoped>\n",
       "    .dataframe tbody tr th:only-of-type {\n",
       "        vertical-align: middle;\n",
       "    }\n",
       "\n",
       "    .dataframe tbody tr th {\n",
       "        vertical-align: top;\n",
       "    }\n",
       "\n",
       "    .dataframe thead th {\n",
       "        text-align: right;\n",
       "    }\n",
       "</style>\n",
       "<table border=\"1\" class=\"dataframe\">\n",
       "  <thead>\n",
       "    <tr style=\"text-align: right;\">\n",
       "      <th></th>\n",
       "      <th>0</th>\n",
       "      <th>1</th>\n",
       "      <th>2</th>\n",
       "      <th>3</th>\n",
       "      <th>4</th>\n",
       "      <th>5</th>\n",
       "      <th>6</th>\n",
       "      <th>7</th>\n",
       "      <th>8</th>\n",
       "      <th>9</th>\n",
       "      <th>...</th>\n",
       "      <th>4086</th>\n",
       "      <th>4087</th>\n",
       "      <th>4088</th>\n",
       "      <th>4089</th>\n",
       "      <th>4090</th>\n",
       "      <th>4091</th>\n",
       "      <th>4092</th>\n",
       "      <th>4093</th>\n",
       "      <th>4094</th>\n",
       "      <th>4095</th>\n",
       "    </tr>\n",
       "  </thead>\n",
       "  <tbody>\n",
       "    <tr>\n",
       "      <th>0</th>\n",
       "      <td>0.0</td>\n",
       "      <td>0.0</td>\n",
       "      <td>8.239051</td>\n",
       "      <td>0.0</td>\n",
       "      <td>0.0</td>\n",
       "      <td>0.023780</td>\n",
       "      <td>0.0</td>\n",
       "      <td>0.0</td>\n",
       "      <td>3.433865</td>\n",
       "      <td>0.000000</td>\n",
       "      <td>...</td>\n",
       "      <td>0.0</td>\n",
       "      <td>1.412491</td>\n",
       "      <td>1.830873</td>\n",
       "      <td>0.0</td>\n",
       "      <td>4.947946</td>\n",
       "      <td>1.412119</td>\n",
       "      <td>0.0</td>\n",
       "      <td>0.0</td>\n",
       "      <td>0.0</td>\n",
       "      <td>13.129076</td>\n",
       "    </tr>\n",
       "    <tr>\n",
       "      <th>1</th>\n",
       "      <td>0.0</td>\n",
       "      <td>0.0</td>\n",
       "      <td>8.239051</td>\n",
       "      <td>0.0</td>\n",
       "      <td>0.0</td>\n",
       "      <td>0.023780</td>\n",
       "      <td>0.0</td>\n",
       "      <td>0.0</td>\n",
       "      <td>3.433865</td>\n",
       "      <td>0.000000</td>\n",
       "      <td>...</td>\n",
       "      <td>0.0</td>\n",
       "      <td>1.412491</td>\n",
       "      <td>1.830873</td>\n",
       "      <td>0.0</td>\n",
       "      <td>4.947946</td>\n",
       "      <td>1.412119</td>\n",
       "      <td>0.0</td>\n",
       "      <td>0.0</td>\n",
       "      <td>0.0</td>\n",
       "      <td>13.129076</td>\n",
       "    </tr>\n",
       "    <tr>\n",
       "      <th>2</th>\n",
       "      <td>0.0</td>\n",
       "      <td>0.0</td>\n",
       "      <td>8.030476</td>\n",
       "      <td>0.0</td>\n",
       "      <td>0.0</td>\n",
       "      <td>0.213077</td>\n",
       "      <td>0.0</td>\n",
       "      <td>0.0</td>\n",
       "      <td>3.572743</td>\n",
       "      <td>0.000000</td>\n",
       "      <td>...</td>\n",
       "      <td>0.0</td>\n",
       "      <td>1.356128</td>\n",
       "      <td>1.645532</td>\n",
       "      <td>0.0</td>\n",
       "      <td>4.994600</td>\n",
       "      <td>1.588138</td>\n",
       "      <td>0.0</td>\n",
       "      <td>0.0</td>\n",
       "      <td>0.0</td>\n",
       "      <td>12.729886</td>\n",
       "    </tr>\n",
       "    <tr>\n",
       "      <th>3</th>\n",
       "      <td>0.0</td>\n",
       "      <td>0.0</td>\n",
       "      <td>8.184902</td>\n",
       "      <td>0.0</td>\n",
       "      <td>0.0</td>\n",
       "      <td>0.000043</td>\n",
       "      <td>0.0</td>\n",
       "      <td>0.0</td>\n",
       "      <td>3.407203</td>\n",
       "      <td>0.000000</td>\n",
       "      <td>...</td>\n",
       "      <td>0.0</td>\n",
       "      <td>1.418545</td>\n",
       "      <td>1.839663</td>\n",
       "      <td>0.0</td>\n",
       "      <td>4.955635</td>\n",
       "      <td>1.421385</td>\n",
       "      <td>0.0</td>\n",
       "      <td>0.0</td>\n",
       "      <td>0.0</td>\n",
       "      <td>13.099815</td>\n",
       "    </tr>\n",
       "    <tr>\n",
       "      <th>4</th>\n",
       "      <td>0.0</td>\n",
       "      <td>0.0</td>\n",
       "      <td>7.828653</td>\n",
       "      <td>0.0</td>\n",
       "      <td>0.0</td>\n",
       "      <td>0.000047</td>\n",
       "      <td>0.0</td>\n",
       "      <td>0.0</td>\n",
       "      <td>3.236813</td>\n",
       "      <td>0.000000</td>\n",
       "      <td>...</td>\n",
       "      <td>0.0</td>\n",
       "      <td>1.396019</td>\n",
       "      <td>1.796988</td>\n",
       "      <td>0.0</td>\n",
       "      <td>4.779365</td>\n",
       "      <td>1.396417</td>\n",
       "      <td>0.0</td>\n",
       "      <td>0.0</td>\n",
       "      <td>0.0</td>\n",
       "      <td>12.599577</td>\n",
       "    </tr>\n",
       "    <tr>\n",
       "      <th>...</th>\n",
       "      <td>...</td>\n",
       "      <td>...</td>\n",
       "      <td>...</td>\n",
       "      <td>...</td>\n",
       "      <td>...</td>\n",
       "      <td>...</td>\n",
       "      <td>...</td>\n",
       "      <td>...</td>\n",
       "      <td>...</td>\n",
       "      <td>...</td>\n",
       "      <td>...</td>\n",
       "      <td>...</td>\n",
       "      <td>...</td>\n",
       "      <td>...</td>\n",
       "      <td>...</td>\n",
       "      <td>...</td>\n",
       "      <td>...</td>\n",
       "      <td>...</td>\n",
       "      <td>...</td>\n",
       "      <td>...</td>\n",
       "      <td>...</td>\n",
       "    </tr>\n",
       "    <tr>\n",
       "      <th>749</th>\n",
       "      <td>0.0</td>\n",
       "      <td>0.0</td>\n",
       "      <td>8.030476</td>\n",
       "      <td>0.0</td>\n",
       "      <td>0.0</td>\n",
       "      <td>0.213077</td>\n",
       "      <td>0.0</td>\n",
       "      <td>0.0</td>\n",
       "      <td>3.572743</td>\n",
       "      <td>0.000000</td>\n",
       "      <td>...</td>\n",
       "      <td>0.0</td>\n",
       "      <td>1.356128</td>\n",
       "      <td>1.645532</td>\n",
       "      <td>0.0</td>\n",
       "      <td>4.994600</td>\n",
       "      <td>1.588138</td>\n",
       "      <td>0.0</td>\n",
       "      <td>0.0</td>\n",
       "      <td>0.0</td>\n",
       "      <td>12.729886</td>\n",
       "    </tr>\n",
       "    <tr>\n",
       "      <th>750</th>\n",
       "      <td>0.0</td>\n",
       "      <td>0.0</td>\n",
       "      <td>8.164559</td>\n",
       "      <td>0.0</td>\n",
       "      <td>0.0</td>\n",
       "      <td>0.091386</td>\n",
       "      <td>0.0</td>\n",
       "      <td>0.0</td>\n",
       "      <td>3.483464</td>\n",
       "      <td>0.000000</td>\n",
       "      <td>...</td>\n",
       "      <td>0.0</td>\n",
       "      <td>1.392361</td>\n",
       "      <td>1.764680</td>\n",
       "      <td>0.0</td>\n",
       "      <td>4.964608</td>\n",
       "      <td>1.474983</td>\n",
       "      <td>0.0</td>\n",
       "      <td>0.0</td>\n",
       "      <td>0.0</td>\n",
       "      <td>12.986511</td>\n",
       "    </tr>\n",
       "    <tr>\n",
       "      <th>751</th>\n",
       "      <td>0.0</td>\n",
       "      <td>0.0</td>\n",
       "      <td>8.030476</td>\n",
       "      <td>0.0</td>\n",
       "      <td>0.0</td>\n",
       "      <td>0.213077</td>\n",
       "      <td>0.0</td>\n",
       "      <td>0.0</td>\n",
       "      <td>3.572743</td>\n",
       "      <td>0.000000</td>\n",
       "      <td>...</td>\n",
       "      <td>0.0</td>\n",
       "      <td>1.356128</td>\n",
       "      <td>1.645532</td>\n",
       "      <td>0.0</td>\n",
       "      <td>4.994600</td>\n",
       "      <td>1.588138</td>\n",
       "      <td>0.0</td>\n",
       "      <td>0.0</td>\n",
       "      <td>0.0</td>\n",
       "      <td>12.729886</td>\n",
       "    </tr>\n",
       "    <tr>\n",
       "      <th>752</th>\n",
       "      <td>0.0</td>\n",
       "      <td>0.0</td>\n",
       "      <td>8.238100</td>\n",
       "      <td>0.0</td>\n",
       "      <td>0.0</td>\n",
       "      <td>0.023785</td>\n",
       "      <td>0.0</td>\n",
       "      <td>0.0</td>\n",
       "      <td>3.433432</td>\n",
       "      <td>0.000000</td>\n",
       "      <td>...</td>\n",
       "      <td>0.0</td>\n",
       "      <td>1.412433</td>\n",
       "      <td>1.830744</td>\n",
       "      <td>0.0</td>\n",
       "      <td>4.947489</td>\n",
       "      <td>1.412088</td>\n",
       "      <td>0.0</td>\n",
       "      <td>0.0</td>\n",
       "      <td>0.0</td>\n",
       "      <td>13.127678</td>\n",
       "    </tr>\n",
       "    <tr>\n",
       "      <th>753</th>\n",
       "      <td>0.0</td>\n",
       "      <td>0.0</td>\n",
       "      <td>7.747736</td>\n",
       "      <td>0.0</td>\n",
       "      <td>0.0</td>\n",
       "      <td>0.421636</td>\n",
       "      <td>0.0</td>\n",
       "      <td>0.0</td>\n",
       "      <td>3.512363</td>\n",
       "      <td>0.010927</td>\n",
       "      <td>...</td>\n",
       "      <td>0.0</td>\n",
       "      <td>1.245175</td>\n",
       "      <td>1.436383</td>\n",
       "      <td>0.0</td>\n",
       "      <td>4.605154</td>\n",
       "      <td>1.512338</td>\n",
       "      <td>0.0</td>\n",
       "      <td>0.0</td>\n",
       "      <td>0.0</td>\n",
       "      <td>11.906364</td>\n",
       "    </tr>\n",
       "  </tbody>\n",
       "</table>\n",
       "<p>754 rows × 4096 columns</p>\n",
       "</div>"
      ],
      "text/plain": [
       "     0     1         2     3     4         5     6     7         8     \\\n",
       "0     0.0   0.0  8.239051   0.0   0.0  0.023780   0.0   0.0  3.433865   \n",
       "1     0.0   0.0  8.239051   0.0   0.0  0.023780   0.0   0.0  3.433865   \n",
       "2     0.0   0.0  8.030476   0.0   0.0  0.213077   0.0   0.0  3.572743   \n",
       "3     0.0   0.0  8.184902   0.0   0.0  0.000043   0.0   0.0  3.407203   \n",
       "4     0.0   0.0  7.828653   0.0   0.0  0.000047   0.0   0.0  3.236813   \n",
       "..    ...   ...       ...   ...   ...       ...   ...   ...       ...   \n",
       "749   0.0   0.0  8.030476   0.0   0.0  0.213077   0.0   0.0  3.572743   \n",
       "750   0.0   0.0  8.164559   0.0   0.0  0.091386   0.0   0.0  3.483464   \n",
       "751   0.0   0.0  8.030476   0.0   0.0  0.213077   0.0   0.0  3.572743   \n",
       "752   0.0   0.0  8.238100   0.0   0.0  0.023785   0.0   0.0  3.433432   \n",
       "753   0.0   0.0  7.747736   0.0   0.0  0.421636   0.0   0.0  3.512363   \n",
       "\n",
       "         9     ...  4086      4087      4088  4089      4090      4091  4092  \\\n",
       "0    0.000000  ...   0.0  1.412491  1.830873   0.0  4.947946  1.412119   0.0   \n",
       "1    0.000000  ...   0.0  1.412491  1.830873   0.0  4.947946  1.412119   0.0   \n",
       "2    0.000000  ...   0.0  1.356128  1.645532   0.0  4.994600  1.588138   0.0   \n",
       "3    0.000000  ...   0.0  1.418545  1.839663   0.0  4.955635  1.421385   0.0   \n",
       "4    0.000000  ...   0.0  1.396019  1.796988   0.0  4.779365  1.396417   0.0   \n",
       "..        ...  ...   ...       ...       ...   ...       ...       ...   ...   \n",
       "749  0.000000  ...   0.0  1.356128  1.645532   0.0  4.994600  1.588138   0.0   \n",
       "750  0.000000  ...   0.0  1.392361  1.764680   0.0  4.964608  1.474983   0.0   \n",
       "751  0.000000  ...   0.0  1.356128  1.645532   0.0  4.994600  1.588138   0.0   \n",
       "752  0.000000  ...   0.0  1.412433  1.830744   0.0  4.947489  1.412088   0.0   \n",
       "753  0.010927  ...   0.0  1.245175  1.436383   0.0  4.605154  1.512338   0.0   \n",
       "\n",
       "     4093  4094       4095  \n",
       "0     0.0   0.0  13.129076  \n",
       "1     0.0   0.0  13.129076  \n",
       "2     0.0   0.0  12.729886  \n",
       "3     0.0   0.0  13.099815  \n",
       "4     0.0   0.0  12.599577  \n",
       "..    ...   ...        ...  \n",
       "749   0.0   0.0  12.729886  \n",
       "750   0.0   0.0  12.986511  \n",
       "751   0.0   0.0  12.729886  \n",
       "752   0.0   0.0  13.127678  \n",
       "753   0.0   0.0  11.906364  \n",
       "\n",
       "[754 rows x 4096 columns]"
      ]
     },
     "execution_count": 65,
     "metadata": {},
     "output_type": "execute_result"
    }
   ],
   "source": [
    "x_all_df = pd.DataFrame(x_all)\n",
    "x_all_df"
   ]
  },
  {
   "cell_type": "code",
   "execution_count": 68,
   "id": "d1cb37f6-c71e-42c6-91c9-190954142ef7",
   "metadata": {},
   "outputs": [
    {
     "data": {
      "text/html": [
       "<div>\n",
       "<style scoped>\n",
       "    .dataframe tbody tr th:only-of-type {\n",
       "        vertical-align: middle;\n",
       "    }\n",
       "\n",
       "    .dataframe tbody tr th {\n",
       "        vertical-align: top;\n",
       "    }\n",
       "\n",
       "    .dataframe thead th {\n",
       "        text-align: right;\n",
       "    }\n",
       "</style>\n",
       "<table border=\"1\" class=\"dataframe\">\n",
       "  <thead>\n",
       "    <tr style=\"text-align: right;\">\n",
       "      <th></th>\n",
       "      <th>image_id</th>\n",
       "      <th>center_id</th>\n",
       "      <th>patient_id</th>\n",
       "      <th>image_num</th>\n",
       "      <th>label</th>\n",
       "    </tr>\n",
       "  </thead>\n",
       "  <tbody>\n",
       "    <tr>\n",
       "      <th>0</th>\n",
       "      <td>006388_0</td>\n",
       "      <td>11</td>\n",
       "      <td>006388</td>\n",
       "      <td>0</td>\n",
       "      <td>CE</td>\n",
       "    </tr>\n",
       "    <tr>\n",
       "      <th>1</th>\n",
       "      <td>008e5c_0</td>\n",
       "      <td>11</td>\n",
       "      <td>008e5c</td>\n",
       "      <td>0</td>\n",
       "      <td>CE</td>\n",
       "    </tr>\n",
       "    <tr>\n",
       "      <th>2</th>\n",
       "      <td>00c058_0</td>\n",
       "      <td>11</td>\n",
       "      <td>00c058</td>\n",
       "      <td>0</td>\n",
       "      <td>LAA</td>\n",
       "    </tr>\n",
       "    <tr>\n",
       "      <th>3</th>\n",
       "      <td>01adc5_0</td>\n",
       "      <td>11</td>\n",
       "      <td>01adc5</td>\n",
       "      <td>0</td>\n",
       "      <td>LAA</td>\n",
       "    </tr>\n",
       "    <tr>\n",
       "      <th>4</th>\n",
       "      <td>026c97_0</td>\n",
       "      <td>4</td>\n",
       "      <td>026c97</td>\n",
       "      <td>0</td>\n",
       "      <td>CE</td>\n",
       "    </tr>\n",
       "    <tr>\n",
       "      <th>...</th>\n",
       "      <td>...</td>\n",
       "      <td>...</td>\n",
       "      <td>...</td>\n",
       "      <td>...</td>\n",
       "      <td>...</td>\n",
       "    </tr>\n",
       "    <tr>\n",
       "      <th>749</th>\n",
       "      <td>fe9645_0</td>\n",
       "      <td>3</td>\n",
       "      <td>fe9645</td>\n",
       "      <td>0</td>\n",
       "      <td>CE</td>\n",
       "    </tr>\n",
       "    <tr>\n",
       "      <th>750</th>\n",
       "      <td>fe9bec_0</td>\n",
       "      <td>4</td>\n",
       "      <td>fe9bec</td>\n",
       "      <td>0</td>\n",
       "      <td>LAA</td>\n",
       "    </tr>\n",
       "    <tr>\n",
       "      <th>751</th>\n",
       "      <td>ff14e0_0</td>\n",
       "      <td>6</td>\n",
       "      <td>ff14e0</td>\n",
       "      <td>0</td>\n",
       "      <td>CE</td>\n",
       "    </tr>\n",
       "    <tr>\n",
       "      <th>752</th>\n",
       "      <td>ffec5c_0</td>\n",
       "      <td>7</td>\n",
       "      <td>ffec5c</td>\n",
       "      <td>0</td>\n",
       "      <td>LAA</td>\n",
       "    </tr>\n",
       "    <tr>\n",
       "      <th>753</th>\n",
       "      <td>ffec5c_1</td>\n",
       "      <td>7</td>\n",
       "      <td>ffec5c</td>\n",
       "      <td>1</td>\n",
       "      <td>LAA</td>\n",
       "    </tr>\n",
       "  </tbody>\n",
       "</table>\n",
       "<p>754 rows × 5 columns</p>\n",
       "</div>"
      ],
      "text/plain": [
       "     image_id  center_id patient_id  image_num label\n",
       "0    006388_0         11     006388          0    CE\n",
       "1    008e5c_0         11     008e5c          0    CE\n",
       "2    00c058_0         11     00c058          0   LAA\n",
       "3    01adc5_0         11     01adc5          0   LAA\n",
       "4    026c97_0          4     026c97          0    CE\n",
       "..        ...        ...        ...        ...   ...\n",
       "749  fe9645_0          3     fe9645          0    CE\n",
       "750  fe9bec_0          4     fe9bec          0   LAA\n",
       "751  ff14e0_0          6     ff14e0          0    CE\n",
       "752  ffec5c_0          7     ffec5c          0   LAA\n",
       "753  ffec5c_1          7     ffec5c          1   LAA\n",
       "\n",
       "[754 rows x 5 columns]"
      ]
     },
     "execution_count": 68,
     "metadata": {},
     "output_type": "execute_result"
    }
   ],
   "source": [
    "train_df = pd.read_csv(here(\"data\", \"train.csv\"))\n",
    "train_df"
   ]
  },
  {
   "cell_type": "code",
   "execution_count": 69,
   "id": "7f4feeb9-347e-4f23-8b09-6288d97a73de",
   "metadata": {},
   "outputs": [],
   "source": [
    "x_all_df[\"label\"] = train_df['label']"
   ]
  },
  {
   "cell_type": "code",
   "execution_count": 70,
   "id": "f9f66d97-b63e-42a4-8b5f-9a8aabe98a56",
   "metadata": {},
   "outputs": [],
   "source": [
    "x_all = x_all_df.drop([\"label\"], axis = 1)"
   ]
  },
  {
   "cell_type": "code",
   "execution_count": 71,
   "id": "4a866f4c-1fea-49ee-b021-98a76db117d9",
   "metadata": {},
   "outputs": [],
   "source": [
    "y_all = x_all_df['label']"
   ]
  },
  {
   "cell_type": "code",
   "execution_count": 74,
   "id": "696c8aeb-e90b-4a3e-b72d-0f1ea4e54ecf",
   "metadata": {},
   "outputs": [],
   "source": [
    "x_train, x_test, y_train, y_test = train_test_split(\n",
    "    x_all, y_all, test_size = 0.2, random_state = 42\n",
    ")"
   ]
  },
  {
   "cell_type": "code",
   "execution_count": 77,
   "id": "32b71d50-08dd-4521-87a7-5293553ee640",
   "metadata": {},
   "outputs": [
    {
     "data": {
      "text/html": [
       "<style>#sk-container-id-1 {color: black;background-color: white;}#sk-container-id-1 pre{padding: 0;}#sk-container-id-1 div.sk-toggleable {background-color: white;}#sk-container-id-1 label.sk-toggleable__label {cursor: pointer;display: block;width: 100%;margin-bottom: 0;padding: 0.3em;box-sizing: border-box;text-align: center;}#sk-container-id-1 label.sk-toggleable__label-arrow:before {content: \"▸\";float: left;margin-right: 0.25em;color: #696969;}#sk-container-id-1 label.sk-toggleable__label-arrow:hover:before {color: black;}#sk-container-id-1 div.sk-estimator:hover label.sk-toggleable__label-arrow:before {color: black;}#sk-container-id-1 div.sk-toggleable__content {max-height: 0;max-width: 0;overflow: hidden;text-align: left;background-color: #f0f8ff;}#sk-container-id-1 div.sk-toggleable__content pre {margin: 0.2em;color: black;border-radius: 0.25em;background-color: #f0f8ff;}#sk-container-id-1 input.sk-toggleable__control:checked~div.sk-toggleable__content {max-height: 200px;max-width: 100%;overflow: auto;}#sk-container-id-1 input.sk-toggleable__control:checked~label.sk-toggleable__label-arrow:before {content: \"▾\";}#sk-container-id-1 div.sk-estimator input.sk-toggleable__control:checked~label.sk-toggleable__label {background-color: #d4ebff;}#sk-container-id-1 div.sk-label input.sk-toggleable__control:checked~label.sk-toggleable__label {background-color: #d4ebff;}#sk-container-id-1 input.sk-hidden--visually {border: 0;clip: rect(1px 1px 1px 1px);clip: rect(1px, 1px, 1px, 1px);height: 1px;margin: -1px;overflow: hidden;padding: 0;position: absolute;width: 1px;}#sk-container-id-1 div.sk-estimator {font-family: monospace;background-color: #f0f8ff;border: 1px dotted black;border-radius: 0.25em;box-sizing: border-box;margin-bottom: 0.5em;}#sk-container-id-1 div.sk-estimator:hover {background-color: #d4ebff;}#sk-container-id-1 div.sk-parallel-item::after {content: \"\";width: 100%;border-bottom: 1px solid gray;flex-grow: 1;}#sk-container-id-1 div.sk-label:hover label.sk-toggleable__label {background-color: #d4ebff;}#sk-container-id-1 div.sk-serial::before {content: \"\";position: absolute;border-left: 1px solid gray;box-sizing: border-box;top: 0;bottom: 0;left: 50%;z-index: 0;}#sk-container-id-1 div.sk-serial {display: flex;flex-direction: column;align-items: center;background-color: white;padding-right: 0.2em;padding-left: 0.2em;position: relative;}#sk-container-id-1 div.sk-item {position: relative;z-index: 1;}#sk-container-id-1 div.sk-parallel {display: flex;align-items: stretch;justify-content: center;background-color: white;position: relative;}#sk-container-id-1 div.sk-item::before, #sk-container-id-1 div.sk-parallel-item::before {content: \"\";position: absolute;border-left: 1px solid gray;box-sizing: border-box;top: 0;bottom: 0;left: 50%;z-index: -1;}#sk-container-id-1 div.sk-parallel-item {display: flex;flex-direction: column;z-index: 1;position: relative;background-color: white;}#sk-container-id-1 div.sk-parallel-item:first-child::after {align-self: flex-end;width: 50%;}#sk-container-id-1 div.sk-parallel-item:last-child::after {align-self: flex-start;width: 50%;}#sk-container-id-1 div.sk-parallel-item:only-child::after {width: 0;}#sk-container-id-1 div.sk-dashed-wrapped {border: 1px dashed gray;margin: 0 0.4em 0.5em 0.4em;box-sizing: border-box;padding-bottom: 0.4em;background-color: white;}#sk-container-id-1 div.sk-label label {font-family: monospace;font-weight: bold;display: inline-block;line-height: 1.2em;}#sk-container-id-1 div.sk-label-container {text-align: center;}#sk-container-id-1 div.sk-container {/* jupyter's `normalize.less` sets `[hidden] { display: none; }` but bootstrap.min.css set `[hidden] { display: none !important; }` so we also need the `!important` here to be able to override the default hidden behavior on the sphinx rendered scikit-learn.org. See: https://github.com/scikit-learn/scikit-learn/issues/21755 */display: inline-block !important;position: relative;}#sk-container-id-1 div.sk-text-repr-fallback {display: none;}</style><div id=\"sk-container-id-1\" class=\"sk-top-container\"><div class=\"sk-text-repr-fallback\"><pre>RidgeClassifierCV(alphas=array([1.e-08, 1.e-07, 1.e-06, 1.e-05, 1.e-04, 1.e-03, 1.e-02, 1.e-01,\n",
       "       1.e+00, 1.e+01, 1.e+02, 1.e+03, 1.e+04, 1.e+05, 1.e+06, 1.e+07,\n",
       "       1.e+08]),\n",
       "                  cv=5)</pre><b>In a Jupyter environment, please rerun this cell to show the HTML representation or trust the notebook. <br />On GitHub, the HTML representation is unable to render, please try loading this page with nbviewer.org.</b></div><div class=\"sk-container\" hidden><div class=\"sk-item\"><div class=\"sk-estimator sk-toggleable\"><input class=\"sk-toggleable__control sk-hidden--visually\" id=\"sk-estimator-id-1\" type=\"checkbox\" checked><label for=\"sk-estimator-id-1\" class=\"sk-toggleable__label sk-toggleable__label-arrow\">RidgeClassifierCV</label><div class=\"sk-toggleable__content\"><pre>RidgeClassifierCV(alphas=array([1.e-08, 1.e-07, 1.e-06, 1.e-05, 1.e-04, 1.e-03, 1.e-02, 1.e-01,\n",
       "       1.e+00, 1.e+01, 1.e+02, 1.e+03, 1.e+04, 1.e+05, 1.e+06, 1.e+07,\n",
       "       1.e+08]),\n",
       "                  cv=5)</pre></div></div></div></div></div>"
      ],
      "text/plain": [
       "RidgeClassifierCV(alphas=array([1.e-08, 1.e-07, 1.e-06, 1.e-05, 1.e-04, 1.e-03, 1.e-02, 1.e-01,\n",
       "       1.e+00, 1.e+01, 1.e+02, 1.e+03, 1.e+04, 1.e+05, 1.e+06, 1.e+07,\n",
       "       1.e+08]),\n",
       "                  cv=5)"
      ]
     },
     "execution_count": 77,
     "metadata": {},
     "output_type": "execute_result"
    }
   ],
   "source": [
    "ridge_cv_random = RidgeClassifierCV(cv = 5, alphas = np.logspace(-8, 8, base = 10, num = 17))\n",
    "ridge_cv_random.fit(x_train, y_train)"
   ]
  },
  {
   "cell_type": "code",
   "execution_count": 87,
   "id": "03826f82-c94d-46e5-81f6-6b3ddc7029dd",
   "metadata": {},
   "outputs": [
    {
     "data": {
      "text/plain": [
       "100.0"
      ]
     },
     "execution_count": 87,
     "metadata": {},
     "output_type": "execute_result"
    }
   ],
   "source": [
    "ridge_cv_random.alpha_"
   ]
  },
  {
   "cell_type": "code",
   "execution_count": 85,
   "id": "c5437cdc-7d73-4641-a104-1498b54f471a",
   "metadata": {},
   "outputs": [
    {
     "data": {
      "text/plain": [
       "0.7396351575456053"
      ]
     },
     "execution_count": 85,
     "metadata": {},
     "output_type": "execute_result"
    }
   ],
   "source": [
    "ridge_cv_random.score(x_train, y_train)"
   ]
  },
  {
   "cell_type": "code",
   "execution_count": 86,
   "id": "16a56ed8-7fde-4add-9bb8-5a8b94c12363",
   "metadata": {},
   "outputs": [
    {
     "data": {
      "text/plain": [
       "0.6754966887417219"
      ]
     },
     "execution_count": 86,
     "metadata": {},
     "output_type": "execute_result"
    }
   ],
   "source": [
    "ridge_cv_random.score(x_test, y_test)"
   ]
  },
  {
   "cell_type": "code",
   "execution_count": 78,
   "id": "07c9db2b-122c-452c-861d-41503d04ce2c",
   "metadata": {},
   "outputs": [
    {
     "data": {
      "text/plain": [
       "0.7413085399449035"
      ]
     },
     "execution_count": 78,
     "metadata": {},
     "output_type": "execute_result"
    }
   ],
   "source": [
    "ridge_cv_random.best_score_"
   ]
  },
  {
   "cell_type": "code",
   "execution_count": 82,
   "id": "3e652625-7b0a-4252-b5a2-b24b32baabb2",
   "metadata": {},
   "outputs": [],
   "source": [
    "y_pred = ridge_cv_random.predict(x_train)    \n",
    "# r2_score(y_train, y_pred)"
   ]
  },
  {
   "cell_type": "code",
   "execution_count": null,
   "id": "8c1f758b-ef3a-4995-86b6-3ad0f6969671",
   "metadata": {},
   "outputs": [],
   "source": []
  },
  {
   "cell_type": "code",
   "execution_count": null,
   "id": "49c1f3af-554f-49ab-885f-f7dcd7dc05c3",
   "metadata": {},
   "outputs": [],
   "source": []
  },
  {
   "cell_type": "code",
   "execution_count": 105,
   "id": "b8b96504-4d74-455f-88c3-c70d837b1b80",
   "metadata": {},
   "outputs": [],
   "source": [
    "rf_class = RandomForestClassifier(max_depth=8, random_state=0, n_estimators = 3000)"
   ]
  },
  {
   "cell_type": "code",
   "execution_count": 106,
   "id": "85a0c020-d15a-4818-b973-c1c20182689c",
   "metadata": {},
   "outputs": [
    {
     "data": {
      "text/html": [
       "<style>#sk-container-id-6 {color: black;background-color: white;}#sk-container-id-6 pre{padding: 0;}#sk-container-id-6 div.sk-toggleable {background-color: white;}#sk-container-id-6 label.sk-toggleable__label {cursor: pointer;display: block;width: 100%;margin-bottom: 0;padding: 0.3em;box-sizing: border-box;text-align: center;}#sk-container-id-6 label.sk-toggleable__label-arrow:before {content: \"▸\";float: left;margin-right: 0.25em;color: #696969;}#sk-container-id-6 label.sk-toggleable__label-arrow:hover:before {color: black;}#sk-container-id-6 div.sk-estimator:hover label.sk-toggleable__label-arrow:before {color: black;}#sk-container-id-6 div.sk-toggleable__content {max-height: 0;max-width: 0;overflow: hidden;text-align: left;background-color: #f0f8ff;}#sk-container-id-6 div.sk-toggleable__content pre {margin: 0.2em;color: black;border-radius: 0.25em;background-color: #f0f8ff;}#sk-container-id-6 input.sk-toggleable__control:checked~div.sk-toggleable__content {max-height: 200px;max-width: 100%;overflow: auto;}#sk-container-id-6 input.sk-toggleable__control:checked~label.sk-toggleable__label-arrow:before {content: \"▾\";}#sk-container-id-6 div.sk-estimator input.sk-toggleable__control:checked~label.sk-toggleable__label {background-color: #d4ebff;}#sk-container-id-6 div.sk-label input.sk-toggleable__control:checked~label.sk-toggleable__label {background-color: #d4ebff;}#sk-container-id-6 input.sk-hidden--visually {border: 0;clip: rect(1px 1px 1px 1px);clip: rect(1px, 1px, 1px, 1px);height: 1px;margin: -1px;overflow: hidden;padding: 0;position: absolute;width: 1px;}#sk-container-id-6 div.sk-estimator {font-family: monospace;background-color: #f0f8ff;border: 1px dotted black;border-radius: 0.25em;box-sizing: border-box;margin-bottom: 0.5em;}#sk-container-id-6 div.sk-estimator:hover {background-color: #d4ebff;}#sk-container-id-6 div.sk-parallel-item::after {content: \"\";width: 100%;border-bottom: 1px solid gray;flex-grow: 1;}#sk-container-id-6 div.sk-label:hover label.sk-toggleable__label {background-color: #d4ebff;}#sk-container-id-6 div.sk-serial::before {content: \"\";position: absolute;border-left: 1px solid gray;box-sizing: border-box;top: 0;bottom: 0;left: 50%;z-index: 0;}#sk-container-id-6 div.sk-serial {display: flex;flex-direction: column;align-items: center;background-color: white;padding-right: 0.2em;padding-left: 0.2em;position: relative;}#sk-container-id-6 div.sk-item {position: relative;z-index: 1;}#sk-container-id-6 div.sk-parallel {display: flex;align-items: stretch;justify-content: center;background-color: white;position: relative;}#sk-container-id-6 div.sk-item::before, #sk-container-id-6 div.sk-parallel-item::before {content: \"\";position: absolute;border-left: 1px solid gray;box-sizing: border-box;top: 0;bottom: 0;left: 50%;z-index: -1;}#sk-container-id-6 div.sk-parallel-item {display: flex;flex-direction: column;z-index: 1;position: relative;background-color: white;}#sk-container-id-6 div.sk-parallel-item:first-child::after {align-self: flex-end;width: 50%;}#sk-container-id-6 div.sk-parallel-item:last-child::after {align-self: flex-start;width: 50%;}#sk-container-id-6 div.sk-parallel-item:only-child::after {width: 0;}#sk-container-id-6 div.sk-dashed-wrapped {border: 1px dashed gray;margin: 0 0.4em 0.5em 0.4em;box-sizing: border-box;padding-bottom: 0.4em;background-color: white;}#sk-container-id-6 div.sk-label label {font-family: monospace;font-weight: bold;display: inline-block;line-height: 1.2em;}#sk-container-id-6 div.sk-label-container {text-align: center;}#sk-container-id-6 div.sk-container {/* jupyter's `normalize.less` sets `[hidden] { display: none; }` but bootstrap.min.css set `[hidden] { display: none !important; }` so we also need the `!important` here to be able to override the default hidden behavior on the sphinx rendered scikit-learn.org. See: https://github.com/scikit-learn/scikit-learn/issues/21755 */display: inline-block !important;position: relative;}#sk-container-id-6 div.sk-text-repr-fallback {display: none;}</style><div id=\"sk-container-id-6\" class=\"sk-top-container\"><div class=\"sk-text-repr-fallback\"><pre>RandomForestClassifier(max_depth=8, n_estimators=3000, random_state=0)</pre><b>In a Jupyter environment, please rerun this cell to show the HTML representation or trust the notebook. <br />On GitHub, the HTML representation is unable to render, please try loading this page with nbviewer.org.</b></div><div class=\"sk-container\" hidden><div class=\"sk-item\"><div class=\"sk-estimator sk-toggleable\"><input class=\"sk-toggleable__control sk-hidden--visually\" id=\"sk-estimator-id-6\" type=\"checkbox\" checked><label for=\"sk-estimator-id-6\" class=\"sk-toggleable__label sk-toggleable__label-arrow\">RandomForestClassifier</label><div class=\"sk-toggleable__content\"><pre>RandomForestClassifier(max_depth=8, n_estimators=3000, random_state=0)</pre></div></div></div></div></div>"
      ],
      "text/plain": [
       "RandomForestClassifier(max_depth=8, n_estimators=3000, random_state=0)"
      ]
     },
     "execution_count": 106,
     "metadata": {},
     "output_type": "execute_result"
    }
   ],
   "source": [
    "rf_class.fit(x_train, y_train)"
   ]
  },
  {
   "cell_type": "code",
   "execution_count": 107,
   "id": "6cb695a6-be38-412f-b36b-010f71ebeed8",
   "metadata": {},
   "outputs": [
    {
     "data": {
      "text/plain": [
       "0.8225538971807629"
      ]
     },
     "execution_count": 107,
     "metadata": {},
     "output_type": "execute_result"
    }
   ],
   "source": [
    "rf_class.score(x_train, y_train)"
   ]
  },
  {
   "cell_type": "code",
   "execution_count": 108,
   "id": "ca0b6293-3ea8-47ec-b941-738dcb6b249a",
   "metadata": {},
   "outputs": [
    {
     "data": {
      "text/plain": [
       "0.6754966887417219"
      ]
     },
     "execution_count": 108,
     "metadata": {},
     "output_type": "execute_result"
    }
   ],
   "source": [
    "rf_class.score(x_test, y_test)"
   ]
  },
  {
   "cell_type": "code",
   "execution_count": null,
   "id": "7144aa28-cb3d-422b-b8f6-934abec8277e",
   "metadata": {},
   "outputs": [],
   "source": []
  }
 ],
 "metadata": {
  "kernelspec": {
   "display_name": "Python 3 (ipykernel)",
   "language": "python",
   "name": "python3"
  },
  "language_info": {
   "codemirror_mode": {
    "name": "ipython",
    "version": 3
   },
   "file_extension": ".py",
   "mimetype": "text/x-python",
   "name": "python",
   "nbconvert_exporter": "python",
   "pygments_lexer": "ipython3",
   "version": "3.8.13"
  }
 },
 "nbformat": 4,
 "nbformat_minor": 5
}
